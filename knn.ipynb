{
  "cells": [
    {
      "cell_type": "markdown",
      "metadata": {},
      "source": [
        "# 파일 불러오기"
      ]
    },
    {
      "cell_type": "code",
      "execution_count": 1,
      "metadata": {},
      "outputs": [
        {
          "data": {
            "text/plain": [
              "Index(['Unnamed: 0', 'Gender', 'Shift', 'Injury Location', 'Age_grouping',\n",
              "       'scaled_DaysLost', 'scaled_IncidentCost', 'Incident Type_Burn',\n",
              "       'Incident Type_Crush & Pinch', 'Incident Type_Cut',\n",
              "       'Incident Type_Equipment', 'Incident Type_Fall',\n",
              "       'Incident Type_Falling object', 'Incident Type_Lifting',\n",
              "       'Incident Type_Slip/trip', 'Incident Type_Vehicle'],\n",
              "      dtype='object')"
            ]
          },
          "execution_count": 1,
          "metadata": {},
          "output_type": "execute_result"
        }
      ],
      "source": [
        "import pandas as pd\n",
        "import numpy as np\n",
        "\n",
        "df = pd.read_csv(\"data.csv\")\n",
        "df\n",
        "df.columns"
      ]
    },
    {
      "cell_type": "markdown",
      "metadata": {},
      "source": [
        "# 전처리"
      ]
    },
    {
      "cell_type": "code",
      "execution_count": 2,
      "metadata": {},
      "outputs": [
        {
          "data": {
            "text/html": [
              "<div>\n",
              "<style scoped>\n",
              "    .dataframe tbody tr th:only-of-type {\n",
              "        vertical-align: middle;\n",
              "    }\n",
              "\n",
              "    .dataframe tbody tr th {\n",
              "        vertical-align: top;\n",
              "    }\n",
              "\n",
              "    .dataframe thead th {\n",
              "        text-align: right;\n",
              "    }\n",
              "</style>\n",
              "<table border=\"1\" class=\"dataframe\">\n",
              "  <thead>\n",
              "    <tr style=\"text-align: right;\">\n",
              "      <th></th>\n",
              "      <th>scaled_DaysLost</th>\n",
              "      <th>Shift</th>\n",
              "      <th>Gender</th>\n",
              "      <th>Incident Type_Burn</th>\n",
              "      <th>Incident Type_Crush &amp; Pinch</th>\n",
              "      <th>Incident Type_Cut</th>\n",
              "      <th>Incident Type_Equipment</th>\n",
              "      <th>Incident Type_Fall</th>\n",
              "      <th>Incident Type_Falling object</th>\n",
              "      <th>Incident Type_Lifting</th>\n",
              "      <th>Incident Type_Slip/trip</th>\n",
              "      <th>Incident Type_Vehicle</th>\n",
              "    </tr>\n",
              "  </thead>\n",
              "  <tbody>\n",
              "    <tr>\n",
              "      <th>0</th>\n",
              "      <td>0.0</td>\n",
              "      <td>1.0</td>\n",
              "      <td>1.0</td>\n",
              "      <td>1.0</td>\n",
              "      <td>0.0</td>\n",
              "      <td>0.0</td>\n",
              "      <td>0.0</td>\n",
              "      <td>0.0</td>\n",
              "      <td>0.0</td>\n",
              "      <td>0.0</td>\n",
              "      <td>0.0</td>\n",
              "      <td>0.0</td>\n",
              "    </tr>\n",
              "    <tr>\n",
              "      <th>1</th>\n",
              "      <td>0.0</td>\n",
              "      <td>0.0</td>\n",
              "      <td>0.0</td>\n",
              "      <td>0.0</td>\n",
              "      <td>0.0</td>\n",
              "      <td>1.0</td>\n",
              "      <td>0.0</td>\n",
              "      <td>0.0</td>\n",
              "      <td>0.0</td>\n",
              "      <td>0.0</td>\n",
              "      <td>0.0</td>\n",
              "      <td>0.0</td>\n",
              "    </tr>\n",
              "    <tr>\n",
              "      <th>2</th>\n",
              "      <td>1.0</td>\n",
              "      <td>0.0</td>\n",
              "      <td>1.0</td>\n",
              "      <td>0.0</td>\n",
              "      <td>0.0</td>\n",
              "      <td>0.0</td>\n",
              "      <td>0.0</td>\n",
              "      <td>0.0</td>\n",
              "      <td>0.0</td>\n",
              "      <td>1.0</td>\n",
              "      <td>0.0</td>\n",
              "      <td>0.0</td>\n",
              "    </tr>\n",
              "    <tr>\n",
              "      <th>3</th>\n",
              "      <td>0.5</td>\n",
              "      <td>0.0</td>\n",
              "      <td>0.0</td>\n",
              "      <td>0.0</td>\n",
              "      <td>0.0</td>\n",
              "      <td>0.0</td>\n",
              "      <td>0.0</td>\n",
              "      <td>0.0</td>\n",
              "      <td>0.0</td>\n",
              "      <td>1.0</td>\n",
              "      <td>0.0</td>\n",
              "      <td>0.0</td>\n",
              "    </tr>\n",
              "    <tr>\n",
              "      <th>4</th>\n",
              "      <td>0.6</td>\n",
              "      <td>0.0</td>\n",
              "      <td>1.0</td>\n",
              "      <td>0.0</td>\n",
              "      <td>0.0</td>\n",
              "      <td>0.0</td>\n",
              "      <td>0.0</td>\n",
              "      <td>0.0</td>\n",
              "      <td>0.0</td>\n",
              "      <td>1.0</td>\n",
              "      <td>0.0</td>\n",
              "      <td>0.0</td>\n",
              "    </tr>\n",
              "    <tr>\n",
              "      <th>...</th>\n",
              "      <td>...</td>\n",
              "      <td>...</td>\n",
              "      <td>...</td>\n",
              "      <td>...</td>\n",
              "      <td>...</td>\n",
              "      <td>...</td>\n",
              "      <td>...</td>\n",
              "      <td>...</td>\n",
              "      <td>...</td>\n",
              "      <td>...</td>\n",
              "      <td>...</td>\n",
              "      <td>...</td>\n",
              "    </tr>\n",
              "    <tr>\n",
              "      <th>467</th>\n",
              "      <td>0.0</td>\n",
              "      <td>1.0</td>\n",
              "      <td>0.0</td>\n",
              "      <td>0.0</td>\n",
              "      <td>0.0</td>\n",
              "      <td>0.0</td>\n",
              "      <td>0.0</td>\n",
              "      <td>0.0</td>\n",
              "      <td>0.0</td>\n",
              "      <td>1.0</td>\n",
              "      <td>0.0</td>\n",
              "      <td>0.0</td>\n",
              "    </tr>\n",
              "    <tr>\n",
              "      <th>468</th>\n",
              "      <td>0.0</td>\n",
              "      <td>1.0</td>\n",
              "      <td>1.0</td>\n",
              "      <td>0.0</td>\n",
              "      <td>0.0</td>\n",
              "      <td>0.0</td>\n",
              "      <td>0.0</td>\n",
              "      <td>0.0</td>\n",
              "      <td>0.0</td>\n",
              "      <td>0.0</td>\n",
              "      <td>1.0</td>\n",
              "      <td>0.0</td>\n",
              "    </tr>\n",
              "    <tr>\n",
              "      <th>469</th>\n",
              "      <td>0.0</td>\n",
              "      <td>1.0</td>\n",
              "      <td>1.0</td>\n",
              "      <td>0.0</td>\n",
              "      <td>1.0</td>\n",
              "      <td>0.0</td>\n",
              "      <td>0.0</td>\n",
              "      <td>0.0</td>\n",
              "      <td>0.0</td>\n",
              "      <td>0.0</td>\n",
              "      <td>0.0</td>\n",
              "      <td>0.0</td>\n",
              "    </tr>\n",
              "    <tr>\n",
              "      <th>470</th>\n",
              "      <td>0.0</td>\n",
              "      <td>1.0</td>\n",
              "      <td>1.0</td>\n",
              "      <td>0.0</td>\n",
              "      <td>0.0</td>\n",
              "      <td>0.0</td>\n",
              "      <td>0.0</td>\n",
              "      <td>0.0</td>\n",
              "      <td>0.0</td>\n",
              "      <td>1.0</td>\n",
              "      <td>0.0</td>\n",
              "      <td>0.0</td>\n",
              "    </tr>\n",
              "    <tr>\n",
              "      <th>471</th>\n",
              "      <td>0.0</td>\n",
              "      <td>1.0</td>\n",
              "      <td>1.0</td>\n",
              "      <td>0.0</td>\n",
              "      <td>0.0</td>\n",
              "      <td>1.0</td>\n",
              "      <td>0.0</td>\n",
              "      <td>0.0</td>\n",
              "      <td>0.0</td>\n",
              "      <td>0.0</td>\n",
              "      <td>0.0</td>\n",
              "      <td>0.0</td>\n",
              "    </tr>\n",
              "  </tbody>\n",
              "</table>\n",
              "<p>472 rows × 12 columns</p>\n",
              "</div>"
            ],
            "text/plain": [
              "     scaled_DaysLost  Shift  Gender  Incident Type_Burn  \\\n",
              "0                0.0    1.0     1.0                 1.0   \n",
              "1                0.0    0.0     0.0                 0.0   \n",
              "2                1.0    0.0     1.0                 0.0   \n",
              "3                0.5    0.0     0.0                 0.0   \n",
              "4                0.6    0.0     1.0                 0.0   \n",
              "..               ...    ...     ...                 ...   \n",
              "467              0.0    1.0     0.0                 0.0   \n",
              "468              0.0    1.0     1.0                 0.0   \n",
              "469              0.0    1.0     1.0                 0.0   \n",
              "470              0.0    1.0     1.0                 0.0   \n",
              "471              0.0    1.0     1.0                 0.0   \n",
              "\n",
              "     Incident Type_Crush & Pinch  Incident Type_Cut  Incident Type_Equipment  \\\n",
              "0                            0.0                0.0                      0.0   \n",
              "1                            0.0                1.0                      0.0   \n",
              "2                            0.0                0.0                      0.0   \n",
              "3                            0.0                0.0                      0.0   \n",
              "4                            0.0                0.0                      0.0   \n",
              "..                           ...                ...                      ...   \n",
              "467                          0.0                0.0                      0.0   \n",
              "468                          0.0                0.0                      0.0   \n",
              "469                          1.0                0.0                      0.0   \n",
              "470                          0.0                0.0                      0.0   \n",
              "471                          0.0                1.0                      0.0   \n",
              "\n",
              "     Incident Type_Fall  Incident Type_Falling object  Incident Type_Lifting  \\\n",
              "0                   0.0                           0.0                    0.0   \n",
              "1                   0.0                           0.0                    0.0   \n",
              "2                   0.0                           0.0                    1.0   \n",
              "3                   0.0                           0.0                    1.0   \n",
              "4                   0.0                           0.0                    1.0   \n",
              "..                  ...                           ...                    ...   \n",
              "467                 0.0                           0.0                    1.0   \n",
              "468                 0.0                           0.0                    0.0   \n",
              "469                 0.0                           0.0                    0.0   \n",
              "470                 0.0                           0.0                    1.0   \n",
              "471                 0.0                           0.0                    0.0   \n",
              "\n",
              "     Incident Type_Slip/trip  Incident Type_Vehicle  \n",
              "0                        0.0                    0.0  \n",
              "1                        0.0                    0.0  \n",
              "2                        0.0                    0.0  \n",
              "3                        0.0                    0.0  \n",
              "4                        0.0                    0.0  \n",
              "..                       ...                    ...  \n",
              "467                      0.0                    0.0  \n",
              "468                      1.0                    0.0  \n",
              "469                      0.0                    0.0  \n",
              "470                      0.0                    0.0  \n",
              "471                      0.0                    0.0  \n",
              "\n",
              "[472 rows x 12 columns]"
            ]
          },
          "execution_count": 2,
          "metadata": {},
          "output_type": "execute_result"
        }
      ],
      "source": [
        "from sklearn.model_selection import train_test_split\n",
        "\n",
        "X=df[['scaled_DaysLost', 'Shift','Gender','Incident Type_Burn',\n",
        "       'Incident Type_Crush & Pinch', 'Incident Type_Cut',\n",
        "       'Incident Type_Equipment', 'Incident Type_Fall',\n",
        "       'Incident Type_Falling object', 'Incident Type_Lifting',\n",
        "       'Incident Type_Slip/trip', 'Incident Type_Vehicle']].astype(float)\n",
        "Y = df[[ 'Injury Location']].astype(float)\n",
        "Y=np.ravel(Y)\n",
        "X_train, X_test, y_train, y_test = train_test_split(X,Y,test_size=0.20,random_state =1)\n",
        "X"
      ]
    },
    {
      "cell_type": "markdown",
      "metadata": {},
      "source": [
        "# 모델링"
      ]
    },
    {
      "cell_type": "code",
      "execution_count": 3,
      "metadata": {
        "id": "fjOiLmEbLsD3"
      },
      "outputs": [
        {
          "name": "stdout",
          "output_type": "stream",
          "text": [
            "Accuracy:  0.3157894736842105\n"
          ]
        }
      ],
      "source": [
        "from sklearn.neighbors import KNeighborsClassifier\n",
        "from sklearn.metrics import accuracy_score\n",
        "\n",
        "knn = KNeighborsClassifier (n_neighbors = 168) # train 개수\n",
        "\n",
        "knn.fit(X_train, y_train)\n",
        "y_pred = knn.predict(X_test)\n",
        "print('Accuracy: ', accuracy_score(y_test,y_pred))"
      ]
    },
    {
      "cell_type": "markdown",
      "metadata": {
        "id": "M_28b56xL0pS"
      },
      "source": [
        "https://jimmy-ai.tistory.com/39 (최적 k 구하기)"
      ]
    },
    {
      "cell_type": "code",
      "execution_count": 4,
      "metadata": {
        "id": "PCpA6hTJLwnO"
      },
      "outputs": [
        {
          "data": {
            "image/png": "[encoded data removed]",
            "text/plain": [
              "<Figure size 432x288 with 1 Axes>"
            ]
          },
          "metadata": {
            "needs_background": "light"
          },
          "output_type": "display_data"
        }
      ],
      "source": [
        "import matplotlib.pyplot as plt\n",
        "\n",
        "k_range = range(1,378)\n",
        "\n",
        "# k에따른 accuracy 저장\n",
        "accuracy_list = []\n",
        "\n",
        "# 각 k마다 모델 테스트\n",
        "for k in k_range:\n",
        "    model = KNeighborsClassifier(n_neighbors = k)\n",
        "    model.fit(X_train, y_train)\n",
        "    y_pred = model.predict(X_test)\n",
        "    accuracy_list.append(accuracy_score(y_test, y_pred))\n",
        "    \n",
        "# 시각화\n",
        "plt.plot(k_range, accuracy_list, 'o--', color = 'orange')\n",
        "plt.xlabel(\"k\")\n",
        "plt.ylabel(\"test accuracy\")\n",
        "plt.show()\n"
      ]
    },
    {
      "cell_type": "markdown",
      "metadata": {},
      "source": [
        "# 교차검증"
      ]
    },
    {
      "cell_type": "code",
      "execution_count": 5,
      "metadata": {
        "id": "InNM5cExMFir"
      },
      "outputs": [
        {
          "data": {
            "image/png": "[encoded data removed]",
            "text/plain": [
              "<Figure size 432x288 with 1 Axes>"
            ]
          },
          "metadata": {
            "needs_background": "light"
          },
          "output_type": "display_data"
        }
      ],
      "source": [
        "# 교차 검증(cross-validation)을 이용해 k 찾기 : 하이퍼 파라미터 검증 선택\n",
        "\n",
        "from sklearn.model_selection import cross_val_score\n",
        "from sklearn import neighbors\n",
        "\n",
        "k_range = range(1,302)\n",
        "k_scores = []\n",
        "\n",
        "for k in k_range: # 데이터를 5개로 나누어 계산 하도록\n",
        "    knn = neighbors.KNeighborsClassifier(k)\n",
        "    scores = cross_val_score(knn, X_train, y_train, cv = 5, scoring='accuracy') # 5번의 교차 검증\n",
        "    k_scores.append(scores.mean()) # 평균\n",
        "\n",
        "plt.plot(k_range, k_scores)\n",
        "plt.xlabel('Value of K for KNN')\n",
        "plt.ylabel('Cross-validated accuracy')\n",
        "plt.show()"
      ]
    }
  ],
  "metadata": {
    "colab": {
      "name": "부상 데이터 분석.ipynb",
      "private_outputs": true,
      "provenance": []
    },
    "kernelspec": {
      "display_name": "Python 3.10.4 ('tensorflow')",
      "language": "python",
      "name": "python3"
    },
    "language_info": {
      "codemirror_mode": {
        "name": "ipython",
        "version": 3
      },
      "file_extension": ".py",
      "mimetype": "text/x-python",
      "name": "python",
      "nbconvert_exporter": "python",
      "pygments_lexer": "ipython3",
      "version": "3.10.4"
    },
    "vscode": {
      "interpreter": {
        "hash": "c6d292335ace933bbc18f92262b720f4eff81503a93ad74a0461ae9407bcb84c"
      }
    }
  },
  "nbformat": 4,
  "nbformat_minor": 0
}
